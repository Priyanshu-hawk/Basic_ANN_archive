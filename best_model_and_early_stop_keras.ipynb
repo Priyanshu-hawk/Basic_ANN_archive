{
 "cells": [
  {
   "cell_type": "code",
   "execution_count": 1,
   "id": "4effdef2",
   "metadata": {},
   "outputs": [],
   "source": [
    "import numpy as np\n",
    "import pandas as pd\n",
    "import matplotlib.pyplot as plt\n",
    "import matplotlib as mpl"
   ]
  },
  {
   "cell_type": "code",
   "execution_count": 2,
   "id": "e1b21daa",
   "metadata": {},
   "outputs": [],
   "source": [
    "%matplotlib inline"
   ]
  },
  {
   "cell_type": "code",
   "execution_count": 3,
   "id": "e2971a7e",
   "metadata": {},
   "outputs": [
    {
     "name": "stderr",
     "output_type": "stream",
     "text": [
      "2023-02-22 20:42:19.421196: I tensorflow/core/platform/cpu_feature_guard.cc:193] This TensorFlow binary is optimized with oneAPI Deep Neural Network Library (oneDNN) to use the following CPU instructions in performance-critical operations:  AVX2 FMA\n",
      "To enable them in other operations, rebuild TensorFlow with the appropriate compiler flags.\n",
      "2023-02-22 20:42:19.642092: W tensorflow/compiler/xla/stream_executor/platform/default/dso_loader.cc:64] Could not load dynamic library 'libcudart.so.11.0'; dlerror: libcudart.so.11.0: cannot open shared object file: No such file or directory\n",
      "2023-02-22 20:42:19.642124: I tensorflow/compiler/xla/stream_executor/cuda/cudart_stub.cc:29] Ignore above cudart dlerror if you do not have a GPU set up on your machine.\n",
      "2023-02-22 20:42:20.664478: W tensorflow/compiler/xla/stream_executor/platform/default/dso_loader.cc:64] Could not load dynamic library 'libnvinfer.so.7'; dlerror: libnvinfer.so.7: cannot open shared object file: No such file or directory\n",
      "2023-02-22 20:42:20.664656: W tensorflow/compiler/xla/stream_executor/platform/default/dso_loader.cc:64] Could not load dynamic library 'libnvinfer_plugin.so.7'; dlerror: libnvinfer_plugin.so.7: cannot open shared object file: No such file or directory\n",
      "2023-02-22 20:42:20.664681: W tensorflow/compiler/tf2tensorrt/utils/py_utils.cc:38] TF-TRT Warning: Cannot dlopen some TensorRT libraries. If you would like to use Nvidia GPU with TensorRT, please make sure the missing libraries mentioned above are installed properly.\n"
     ]
    }
   ],
   "source": [
    "import tensorflow as tf\n",
    "from tensorflow import keras"
   ]
  },
  {
   "cell_type": "code",
   "execution_count": 4,
   "id": "1d3a53a1",
   "metadata": {},
   "outputs": [],
   "source": [
    "#Data set\n",
    "\n",
    "from sklearn.datasets import fetch_california_housing\n",
    "housing = fetch_california_housing()"
   ]
  },
  {
   "cell_type": "code",
   "execution_count": 5,
   "id": "f4ec9b77",
   "metadata": {},
   "outputs": [
    {
     "data": {
      "text/plain": [
       "{'data': array([[   8.3252    ,   41.        ,    6.98412698, ...,    2.55555556,\n",
       "           37.88      , -122.23      ],\n",
       "        [   8.3014    ,   21.        ,    6.23813708, ...,    2.10984183,\n",
       "           37.86      , -122.22      ],\n",
       "        [   7.2574    ,   52.        ,    8.28813559, ...,    2.80225989,\n",
       "           37.85      , -122.24      ],\n",
       "        ...,\n",
       "        [   1.7       ,   17.        ,    5.20554273, ...,    2.3256351 ,\n",
       "           39.43      , -121.22      ],\n",
       "        [   1.8672    ,   18.        ,    5.32951289, ...,    2.12320917,\n",
       "           39.43      , -121.32      ],\n",
       "        [   2.3886    ,   16.        ,    5.25471698, ...,    2.61698113,\n",
       "           39.37      , -121.24      ]]),\n",
       " 'target': array([4.526, 3.585, 3.521, ..., 0.923, 0.847, 0.894]),\n",
       " 'frame': None,\n",
       " 'target_names': ['MedHouseVal'],\n",
       " 'feature_names': ['MedInc',\n",
       "  'HouseAge',\n",
       "  'AveRooms',\n",
       "  'AveBedrms',\n",
       "  'Population',\n",
       "  'AveOccup',\n",
       "  'Latitude',\n",
       "  'Longitude'],\n",
       " 'DESCR': '.. _california_housing_dataset:\\n\\nCalifornia Housing dataset\\n--------------------------\\n\\n**Data Set Characteristics:**\\n\\n    :Number of Instances: 20640\\n\\n    :Number of Attributes: 8 numeric, predictive attributes and the target\\n\\n    :Attribute Information:\\n        - MedInc        median income in block group\\n        - HouseAge      median house age in block group\\n        - AveRooms      average number of rooms per household\\n        - AveBedrms     average number of bedrooms per household\\n        - Population    block group population\\n        - AveOccup      average number of household members\\n        - Latitude      block group latitude\\n        - Longitude     block group longitude\\n\\n    :Missing Attribute Values: None\\n\\nThis dataset was obtained from the StatLib repository.\\nhttps://www.dcc.fc.up.pt/~ltorgo/Regression/cal_housing.html\\n\\nThe target variable is the median house value for California districts,\\nexpressed in hundreds of thousands of dollars ($100,000).\\n\\nThis dataset was derived from the 1990 U.S. census, using one row per census\\nblock group. A block group is the smallest geographical unit for which the U.S.\\nCensus Bureau publishes sample data (a block group typically has a population\\nof 600 to 3,000 people).\\n\\nAn household is a group of people residing within a home. Since the average\\nnumber of rooms and bedrooms in this dataset are provided per household, these\\ncolumns may take surpinsingly large values for block groups with few households\\nand many empty houses, such as vacation resorts.\\n\\nIt can be downloaded/loaded using the\\n:func:`sklearn.datasets.fetch_california_housing` function.\\n\\n.. topic:: References\\n\\n    - Pace, R. Kelley and Ronald Barry, Sparse Spatial Autoregressions,\\n      Statistics and Probability Letters, 33 (1997) 291-297\\n'}"
      ]
     },
     "execution_count": 5,
     "metadata": {},
     "output_type": "execute_result"
    }
   ],
   "source": [
    "housing"
   ]
  },
  {
   "cell_type": "code",
   "execution_count": 6,
   "id": "10d2c23d",
   "metadata": {
    "scrolled": true
   },
   "outputs": [
    {
     "data": {
      "text/plain": [
       "['MedInc',\n",
       " 'HouseAge',\n",
       " 'AveRooms',\n",
       " 'AveBedrms',\n",
       " 'Population',\n",
       " 'AveOccup',\n",
       " 'Latitude',\n",
       " 'Longitude']"
      ]
     },
     "execution_count": 6,
     "metadata": {},
     "output_type": "execute_result"
    }
   ],
   "source": [
    "housing.feature_names"
   ]
  },
  {
   "cell_type": "code",
   "execution_count": 7,
   "id": "66eea305",
   "metadata": {},
   "outputs": [],
   "source": [
    "from sklearn.model_selection import train_test_split\n",
    "x_train_full, x_test, y_train_full, y_test = train_test_split(housing.data, housing.target, random_state=42)"
   ]
  },
  {
   "cell_type": "code",
   "execution_count": 8,
   "id": "9412effe",
   "metadata": {},
   "outputs": [
    {
     "data": {
      "text/plain": [
       "((15480, 8), (5160, 8), (15480,), (5160,))"
      ]
     },
     "execution_count": 8,
     "metadata": {},
     "output_type": "execute_result"
    }
   ],
   "source": [
    "x_train_full.shape, x_test.shape, y_train_full.shape, y_test.shape"
   ]
  },
  {
   "cell_type": "code",
   "execution_count": 9,
   "id": "f9e69c47",
   "metadata": {},
   "outputs": [],
   "source": [
    "x_train, x_valid, y_train, y_valid = train_test_split(x_train_full, y_train_full, random_state=42)"
   ]
  },
  {
   "cell_type": "code",
   "execution_count": 10,
   "id": "1cc09c72",
   "metadata": {},
   "outputs": [
    {
     "data": {
      "text/plain": [
       "((11610, 8), (3870, 8), (11610,), (3870,))"
      ]
     },
     "execution_count": 10,
     "metadata": {},
     "output_type": "execute_result"
    }
   ],
   "source": [
    "x_train.shape, x_valid.shape, y_train.shape, y_valid.shape"
   ]
  },
  {
   "cell_type": "code",
   "execution_count": 11,
   "id": "cd93bb7e",
   "metadata": {},
   "outputs": [],
   "source": [
    "from sklearn.preprocessing import StandardScaler\n",
    "scaler = StandardScaler()\n",
    "x_train = scaler.fit_transform(x_train)\n",
    "x_test = scaler.transform(x_test)\n",
    "x_valid = scaler.transform(x_valid)"
   ]
  },
  {
   "cell_type": "code",
   "execution_count": 12,
   "id": "906fc56e",
   "metadata": {},
   "outputs": [],
   "source": [
    "np.random.seed(42)\n",
    "tf.random.set_seed(42)"
   ]
  },
  {
   "cell_type": "code",
   "execution_count": 13,
   "id": "6796bad5",
   "metadata": {},
   "outputs": [],
   "source": [
    "# making layers"
   ]
  },
  {
   "attachments": {
    "image.png": {
     "image/png": "[encoded data removed]"
    }
   },
   "cell_type": "markdown",
   "id": "ef07dc62",
   "metadata": {},
   "source": [
    "![image.png](attachment:image.png)"
   ]
  },
  {
   "cell_type": "code",
   "execution_count": 14,
   "id": "8800afbb",
   "metadata": {},
   "outputs": [
    {
     "name": "stderr",
     "output_type": "stream",
     "text": [
      "2023-02-22 20:42:23.108486: W tensorflow/compiler/xla/stream_executor/platform/default/dso_loader.cc:64] Could not load dynamic library 'libcuda.so.1'; dlerror: libcuda.so.1: cannot open shared object file: No such file or directory\n",
      "2023-02-22 20:42:23.108521: W tensorflow/compiler/xla/stream_executor/cuda/cuda_driver.cc:265] failed call to cuInit: UNKNOWN ERROR (303)\n",
      "2023-02-22 20:42:23.108548: I tensorflow/compiler/xla/stream_executor/cuda/cuda_diagnostics.cc:156] kernel driver does not appear to be running on this host (prip): /proc/driver/nvidia/version does not exist\n",
      "2023-02-22 20:42:23.108801: I tensorflow/core/platform/cpu_feature_guard.cc:193] This TensorFlow binary is optimized with oneAPI Deep Neural Network Library (oneDNN) to use the following CPU instructions in performance-critical operations:  AVX2 FMA\n",
      "To enable them in other operations, rebuild TensorFlow with the appropriate compiler flags.\n"
     ]
    }
   ],
   "source": [
    "input_ = keras.layers.Input(shape=x_train.shape[1])\n",
    "hidden1 = keras.layers.Dense(30, activation='relu')(input_)\n",
    "hidden2 = keras.layers.Dense(30, activation='relu')(hidden1)\n",
    "concat = keras.layers.concatenate([input_, hidden2])\n",
    "output = keras.layers.Dense(1)(concat)"
   ]
  },
  {
   "cell_type": "code",
   "execution_count": 15,
   "id": "806b389c",
   "metadata": {},
   "outputs": [],
   "source": [
    "model = keras.models.Model(inputs=[input_], outputs=[output])"
   ]
  },
  {
   "cell_type": "code",
   "execution_count": 16,
   "id": "9ef998af",
   "metadata": {},
   "outputs": [
    {
     "name": "stdout",
     "output_type": "stream",
     "text": [
      "Model: \"model\"\n",
      "__________________________________________________________________________________________________\n",
      " Layer (type)                   Output Shape         Param #     Connected to                     \n",
      "==================================================================================================\n",
      " input_1 (InputLayer)           [(None, 8)]          0           []                               \n",
      "                                                                                                  \n",
      " dense (Dense)                  (None, 30)           270         ['input_1[0][0]']                \n",
      "                                                                                                  \n",
      " dense_1 (Dense)                (None, 30)           930         ['dense[0][0]']                  \n",
      "                                                                                                  \n",
      " concatenate (Concatenate)      (None, 38)           0           ['input_1[0][0]',                \n",
      "                                                                  'dense_1[0][0]']                \n",
      "                                                                                                  \n",
      " dense_2 (Dense)                (None, 1)            39          ['concatenate[0][0]']            \n",
      "                                                                                                  \n",
      "==================================================================================================\n",
      "Total params: 1,239\n",
      "Trainable params: 1,239\n",
      "Non-trainable params: 0\n",
      "__________________________________________________________________________________________________\n"
     ]
    }
   ],
   "source": [
    "model.summary()"
   ]
  },
  {
   "cell_type": "code",
   "execution_count": 17,
   "id": "8a948f25",
   "metadata": {},
   "outputs": [
    {
     "data": {
      "image/png": "[encoded data removed]",
      "text/plain": [
       "<IPython.core.display.Image object>"
      ]
     },
     "execution_count": 17,
     "metadata": {},
     "output_type": "execute_result"
    }
   ],
   "source": [
    "keras.utils.plot_model(model)"
   ]
  },
  {
   "cell_type": "code",
   "execution_count": 18,
   "id": "f8a671f8",
   "metadata": {},
   "outputs": [],
   "source": [
    "model.compile(loss='mean_squared_error', optimizer=keras.optimizers.SGD(learning_rate=1e-3), metrics=['mae'])"
   ]
  },
  {
   "cell_type": "code",
   "execution_count": 19,
   "id": "b6227a8a",
   "metadata": {
    "scrolled": true
   },
   "outputs": [
    {
     "name": "stdout",
     "output_type": "stream",
     "text": [
      "Epoch 1/100\n",
      "363/363 [==============================] - 2s 4ms/step - loss: 2.0863 - mae: 1.0478 - val_loss: 0.8504 - val_mae: 0.6651\n",
      "Epoch 2/100\n",
      "363/363 [==============================] - 1s 3ms/step - loss: 0.7208 - mae: 0.6336 - val_loss: 1.0423 - val_mae: 0.6088\n",
      "Epoch 3/100\n",
      "363/363 [==============================] - 1s 3ms/step - loss: 0.6294 - mae: 0.5856 - val_loss: 0.5876 - val_mae: 0.5541\n",
      "Epoch 4/100\n",
      "363/363 [==============================] - 1s 3ms/step - loss: 0.5709 - mae: 0.5538 - val_loss: 0.5415 - val_mae: 0.5320\n",
      "Epoch 5/100\n",
      "363/363 [==============================] - 1s 3ms/step - loss: 0.5351 - mae: 0.5321 - val_loss: 0.5105 - val_mae: 0.5100\n",
      "Epoch 6/100\n",
      "363/363 [==============================] - 1s 4ms/step - loss: 0.5086 - mae: 0.5169 - val_loss: 0.4979 - val_mae: 0.4979\n",
      "Epoch 7/100\n",
      "363/363 [==============================] - 1s 3ms/step - loss: 0.4899 - mae: 0.5053 - val_loss: 0.4895 - val_mae: 0.4896\n",
      "Epoch 8/100\n",
      "363/363 [==============================] - 1s 4ms/step - loss: 0.4756 - mae: 0.4972 - val_loss: 0.4550 - val_mae: 0.4796\n",
      "Epoch 9/100\n",
      "363/363 [==============================] - 1s 3ms/step - loss: 0.4642 - mae: 0.4911 - val_loss: 0.4410 - val_mae: 0.4731\n",
      "Epoch 10/100\n",
      "363/363 [==============================] - 1s 4ms/step - loss: 0.4553 - mae: 0.4863 - val_loss: 0.4333 - val_mae: 0.4682\n",
      "Epoch 11/100\n",
      "363/363 [==============================] - 1s 3ms/step - loss: 0.4480 - mae: 0.4816 - val_loss: 0.4339 - val_mae: 0.4677\n",
      "Epoch 12/100\n",
      "363/363 [==============================] - 1s 3ms/step - loss: 0.4417 - mae: 0.4782 - val_loss: 0.4130 - val_mae: 0.4603\n",
      "Epoch 13/100\n",
      "363/363 [==============================] - 1s 4ms/step - loss: 0.4362 - mae: 0.4751 - val_loss: 0.4083 - val_mae: 0.4596\n",
      "Epoch 14/100\n",
      "363/363 [==============================] - 1s 3ms/step - loss: 0.4313 - mae: 0.4720 - val_loss: 0.4243 - val_mae: 0.4600\n",
      "Epoch 15/100\n",
      "363/363 [==============================] - 1s 3ms/step - loss: 0.4268 - mae: 0.4691 - val_loss: 0.3977 - val_mae: 0.4529\n",
      "Epoch 16/100\n",
      "363/363 [==============================] - 1s 3ms/step - loss: 0.4229 - mae: 0.4670 - val_loss: 0.4153 - val_mae: 0.4536\n",
      "Epoch 17/100\n",
      "363/363 [==============================] - 1s 3ms/step - loss: 0.4192 - mae: 0.4643 - val_loss: 0.3883 - val_mae: 0.4467\n",
      "Epoch 18/100\n",
      "363/363 [==============================] - 1s 3ms/step - loss: 0.4158 - mae: 0.4623 - val_loss: 0.3848 - val_mae: 0.4434\n",
      "Epoch 19/100\n",
      "363/363 [==============================] - 1s 3ms/step - loss: 0.4122 - mae: 0.4595 - val_loss: 0.3867 - val_mae: 0.4436\n",
      "Epoch 20/100\n",
      "363/363 [==============================] - 1s 3ms/step - loss: 0.4091 - mae: 0.4577 - val_loss: 0.4029 - val_mae: 0.4454\n",
      "Epoch 21/100\n",
      "363/363 [==============================] - 1s 3ms/step - loss: 0.4066 - mae: 0.4557 - val_loss: 0.3819 - val_mae: 0.4438\n",
      "Epoch 22/100\n",
      "363/363 [==============================] - 1s 3ms/step - loss: 0.4034 - mae: 0.4541 - val_loss: 0.3984 - val_mae: 0.4423\n",
      "Epoch 23/100\n",
      "363/363 [==============================] - 1s 4ms/step - loss: 0.4013 - mae: 0.4526 - val_loss: 0.4547 - val_mae: 0.4391\n",
      "Epoch 24/100\n",
      "363/363 [==============================] - 1s 3ms/step - loss: 0.3986 - mae: 0.4504 - val_loss: 0.3762 - val_mae: 0.4342\n",
      "Epoch 25/100\n",
      "363/363 [==============================] - 1s 3ms/step - loss: 0.3964 - mae: 0.4493 - val_loss: 0.3678 - val_mae: 0.4330\n",
      "Epoch 26/100\n",
      "363/363 [==============================] - 1s 3ms/step - loss: 0.3941 - mae: 0.4479 - val_loss: 0.3721 - val_mae: 0.4338\n",
      "Epoch 27/100\n",
      "363/363 [==============================] - 1s 3ms/step - loss: 0.3926 - mae: 0.4468 - val_loss: 0.4176 - val_mae: 0.4349\n",
      "Epoch 28/100\n",
      "363/363 [==============================] - 2s 5ms/step - loss: 0.3903 - mae: 0.4451 - val_loss: 0.3819 - val_mae: 0.4344\n",
      "Epoch 29/100\n",
      "363/363 [==============================] - 2s 5ms/step - loss: 0.3889 - mae: 0.4442 - val_loss: 0.3640 - val_mae: 0.4313\n",
      "Epoch 30/100\n",
      "363/363 [==============================] - 2s 5ms/step - loss: 0.3865 - mae: 0.4428 - val_loss: 0.3756 - val_mae: 0.4291\n",
      "Epoch 31/100\n",
      "363/363 [==============================] - 2s 5ms/step - loss: 0.3853 - mae: 0.4416 - val_loss: 0.3627 - val_mae: 0.4274\n",
      "Epoch 32/100\n",
      "363/363 [==============================] - 2s 5ms/step - loss: 0.3832 - mae: 0.4406 - val_loss: 0.3856 - val_mae: 0.4339\n",
      "Epoch 33/100\n",
      "363/363 [==============================] - 2s 6ms/step - loss: 0.3828 - mae: 0.4405 - val_loss: 0.3789 - val_mae: 0.4298\n",
      "Epoch 34/100\n",
      "363/363 [==============================] - 2s 5ms/step - loss: 0.3809 - mae: 0.4391 - val_loss: 0.3558 - val_mae: 0.4261\n",
      "Epoch 35/100\n",
      "363/363 [==============================] - 2s 6ms/step - loss: 0.3795 - mae: 0.4381 - val_loss: 0.3733 - val_mae: 0.4291\n",
      "Epoch 36/100\n",
      "363/363 [==============================] - 3s 8ms/step - loss: 0.3785 - mae: 0.4376 - val_loss: 0.4289 - val_mae: 0.4277\n",
      "Epoch 37/100\n",
      "363/363 [==============================] - 2s 5ms/step - loss: 0.3774 - mae: 0.4366 - val_loss: 0.3633 - val_mae: 0.4261\n",
      "Epoch 38/100\n",
      "363/363 [==============================] - 2s 5ms/step - loss: 0.3764 - mae: 0.4361 - val_loss: 0.3708 - val_mae: 0.4245\n",
      "Epoch 39/100\n",
      "363/363 [==============================] - 3s 8ms/step - loss: 0.3751 - mae: 0.4355 - val_loss: 0.3494 - val_mae: 0.4207\n",
      "Epoch 40/100\n",
      "363/363 [==============================] - 3s 7ms/step - loss: 0.3739 - mae: 0.4347 - val_loss: 0.3477 - val_mae: 0.4181\n",
      "Epoch 41/100\n",
      "363/363 [==============================] - 2s 6ms/step - loss: 0.3731 - mae: 0.4337 - val_loss: 0.3488 - val_mae: 0.4208\n",
      "Epoch 42/100\n",
      "363/363 [==============================] - 2s 5ms/step - loss: 0.3724 - mae: 0.4337 - val_loss: 0.3467 - val_mae: 0.4188\n",
      "Epoch 43/100\n",
      "363/363 [==============================] - 2s 5ms/step - loss: 0.3709 - mae: 0.4322 - val_loss: 0.3627 - val_mae: 0.4210\n",
      "Epoch 44/100\n",
      "363/363 [==============================] - 3s 8ms/step - loss: 0.3705 - mae: 0.4319 - val_loss: 0.3521 - val_mae: 0.4223\n",
      "Epoch 45/100\n",
      "363/363 [==============================] - 2s 7ms/step - loss: 0.3698 - mae: 0.4320 - val_loss: 0.3446 - val_mae: 0.4168\n",
      "Epoch 46/100\n",
      "363/363 [==============================] - 1s 4ms/step - loss: 0.3684 - mae: 0.4302 - val_loss: 0.3469 - val_mae: 0.4187\n",
      "Epoch 47/100\n",
      "363/363 [==============================] - 1s 4ms/step - loss: 0.3680 - mae: 0.4307 - val_loss: 0.3473 - val_mae: 0.4172\n",
      "Epoch 48/100\n",
      "363/363 [==============================] - 1s 3ms/step - loss: 0.3668 - mae: 0.4296 - val_loss: 0.3680 - val_mae: 0.4218\n",
      "Epoch 49/100\n",
      "363/363 [==============================] - 1s 3ms/step - loss: 0.3669 - mae: 0.4295 - val_loss: 0.3684 - val_mae: 0.4214\n",
      "Epoch 50/100\n",
      "363/363 [==============================] - 1s 3ms/step - loss: 0.3656 - mae: 0.4289 - val_loss: 0.3498 - val_mae: 0.4165\n",
      "Epoch 51/100\n",
      "363/363 [==============================] - 1s 4ms/step - loss: 0.3649 - mae: 0.4276 - val_loss: 0.3421 - val_mae: 0.4185\n",
      "Epoch 52/100\n",
      "363/363 [==============================] - 1s 4ms/step - loss: 0.3644 - mae: 0.4280 - val_loss: 0.3655 - val_mae: 0.4176\n",
      "Epoch 53/100\n",
      "363/363 [==============================] - 1s 4ms/step - loss: 0.3635 - mae: 0.4273 - val_loss: 0.4162 - val_mae: 0.4213\n",
      "Epoch 54/100\n",
      "363/363 [==============================] - 1s 3ms/step - loss: 0.3638 - mae: 0.4269 - val_loss: 0.4716 - val_mae: 0.4254\n",
      "Epoch 55/100\n",
      "363/363 [==============================] - 1s 3ms/step - loss: 0.3629 - mae: 0.4271 - val_loss: 0.3963 - val_mae: 0.4193\n",
      "Epoch 56/100\n",
      "363/363 [==============================] - 2s 4ms/step - loss: 0.3626 - mae: 0.4259 - val_loss: 0.4243 - val_mae: 0.4226\n",
      "Epoch 57/100\n",
      "363/363 [==============================] - 1s 3ms/step - loss: 0.3615 - mae: 0.4262 - val_loss: 0.3417 - val_mae: 0.4149\n",
      "Epoch 58/100\n",
      "363/363 [==============================] - 1s 3ms/step - loss: 0.3604 - mae: 0.4252 - val_loss: 0.3610 - val_mae: 0.4154\n",
      "Epoch 59/100\n",
      "363/363 [==============================] - 2s 5ms/step - loss: 0.3605 - mae: 0.4250 - val_loss: 0.3378 - val_mae: 0.4140\n",
      "Epoch 60/100\n",
      "363/363 [==============================] - 3s 8ms/step - loss: 0.3597 - mae: 0.4246 - val_loss: 0.3384 - val_mae: 0.4156\n",
      "Epoch 61/100\n",
      "363/363 [==============================] - 2s 5ms/step - loss: 0.3586 - mae: 0.4239 - val_loss: 0.3533 - val_mae: 0.4211\n",
      "Epoch 62/100\n"
     ]
    },
    {
     "name": "stdout",
     "output_type": "stream",
     "text": [
      "363/363 [==============================] - 2s 5ms/step - loss: 0.3588 - mae: 0.4244 - val_loss: 0.3374 - val_mae: 0.4130\n",
      "Epoch 63/100\n",
      "363/363 [==============================] - 1s 4ms/step - loss: 0.3576 - mae: 0.4232 - val_loss: 0.3414 - val_mae: 0.4171\n",
      "Epoch 64/100\n",
      "363/363 [==============================] - 1s 3ms/step - loss: 0.3578 - mae: 0.4235 - val_loss: 0.3657 - val_mae: 0.4173\n",
      "Epoch 65/100\n",
      "363/363 [==============================] - 2s 4ms/step - loss: 0.3569 - mae: 0.4231 - val_loss: 0.3361 - val_mae: 0.4128\n",
      "Epoch 66/100\n",
      "363/363 [==============================] - 1s 3ms/step - loss: 0.3564 - mae: 0.4223 - val_loss: 0.3359 - val_mae: 0.4121\n",
      "Epoch 67/100\n",
      "363/363 [==============================] - 1s 2ms/step - loss: 0.3558 - mae: 0.4222 - val_loss: 0.3395 - val_mae: 0.4141\n",
      "Epoch 68/100\n",
      "363/363 [==============================] - 1s 3ms/step - loss: 0.3555 - mae: 0.4218 - val_loss: 0.3351 - val_mae: 0.4118\n",
      "Epoch 69/100\n",
      "363/363 [==============================] - 1s 2ms/step - loss: 0.3551 - mae: 0.4213 - val_loss: 0.3383 - val_mae: 0.4157\n",
      "Epoch 70/100\n",
      "363/363 [==============================] - 1s 2ms/step - loss: 0.3543 - mae: 0.4215 - val_loss: 0.3438 - val_mae: 0.4116\n",
      "Epoch 71/100\n",
      "363/363 [==============================] - 1s 2ms/step - loss: 0.3541 - mae: 0.4209 - val_loss: 0.3388 - val_mae: 0.4131\n",
      "Epoch 72/100\n",
      "363/363 [==============================] - 1s 2ms/step - loss: 0.3538 - mae: 0.4208 - val_loss: 0.3393 - val_mae: 0.4127\n",
      "Epoch 73/100\n",
      "363/363 [==============================] - 1s 2ms/step - loss: 0.3530 - mae: 0.4208 - val_loss: 0.3628 - val_mae: 0.4129\n",
      "Epoch 74/100\n",
      "363/363 [==============================] - 1s 2ms/step - loss: 0.3529 - mae: 0.4204 - val_loss: 0.4023 - val_mae: 0.4171\n",
      "Epoch 75/100\n",
      "363/363 [==============================] - 1s 3ms/step - loss: 0.3532 - mae: 0.4197 - val_loss: 0.3382 - val_mae: 0.4140\n",
      "Epoch 76/100\n",
      "363/363 [==============================] - 1s 3ms/step - loss: 0.3521 - mae: 0.4201 - val_loss: 0.3363 - val_mae: 0.4107\n",
      "Epoch 77/100\n",
      "363/363 [==============================] - 1s 3ms/step - loss: 0.3513 - mae: 0.4190 - val_loss: 0.3625 - val_mae: 0.4172\n",
      "Epoch 78/100\n",
      "363/363 [==============================] - 1s 3ms/step - loss: 0.3515 - mae: 0.4197 - val_loss: 0.3332 - val_mae: 0.4114\n",
      "Epoch 79/100\n",
      "363/363 [==============================] - 1s 3ms/step - loss: 0.3508 - mae: 0.4188 - val_loss: 0.3486 - val_mae: 0.4132\n",
      "Epoch 80/100\n",
      "363/363 [==============================] - 1s 3ms/step - loss: 0.3508 - mae: 0.4190 - val_loss: 0.3344 - val_mae: 0.4094\n",
      "Epoch 81/100\n",
      "363/363 [==============================] - 1s 3ms/step - loss: 0.3502 - mae: 0.4186 - val_loss: 0.3367 - val_mae: 0.4104\n",
      "Epoch 82/100\n",
      "363/363 [==============================] - 1s 4ms/step - loss: 0.3498 - mae: 0.4185 - val_loss: 0.4386 - val_mae: 0.4169\n",
      "Epoch 83/100\n",
      "363/363 [==============================] - 1s 3ms/step - loss: 0.3497 - mae: 0.4182 - val_loss: 0.3490 - val_mae: 0.4114\n",
      "Epoch 84/100\n",
      "363/363 [==============================] - 1s 3ms/step - loss: 0.3492 - mae: 0.4176 - val_loss: 0.3372 - val_mae: 0.4125\n",
      "Epoch 85/100\n",
      "363/363 [==============================] - 1s 3ms/step - loss: 0.3485 - mae: 0.4179 - val_loss: 0.3317 - val_mae: 0.4064\n",
      "Epoch 86/100\n",
      "363/363 [==============================] - 1s 4ms/step - loss: 0.3487 - mae: 0.4172 - val_loss: 0.4505 - val_mae: 0.4155\n",
      "Epoch 87/100\n",
      "363/363 [==============================] - 1s 3ms/step - loss: 0.3486 - mae: 0.4174 - val_loss: 0.5187 - val_mae: 0.4195\n",
      "Epoch 88/100\n",
      "363/363 [==============================] - 1s 3ms/step - loss: 0.3495 - mae: 0.4171 - val_loss: 0.3711 - val_mae: 0.4121\n",
      "Epoch 89/100\n",
      "363/363 [==============================] - 1s 3ms/step - loss: 0.3471 - mae: 0.4170 - val_loss: 0.4833 - val_mae: 0.4175\n",
      "Epoch 90/100\n",
      "363/363 [==============================] - 1s 3ms/step - loss: 0.3483 - mae: 0.4166 - val_loss: 0.3401 - val_mae: 0.4119\n",
      "Epoch 91/100\n",
      "363/363 [==============================] - 1s 3ms/step - loss: 0.3463 - mae: 0.4164 - val_loss: 0.3775 - val_mae: 0.4116\n",
      "Epoch 92/100\n",
      "363/363 [==============================] - 1s 3ms/step - loss: 0.3467 - mae: 0.4161 - val_loss: 0.3299 - val_mae: 0.4088\n",
      "Epoch 93/100\n",
      "363/363 [==============================] - 1s 3ms/step - loss: 0.3458 - mae: 0.4158 - val_loss: 0.3420 - val_mae: 0.4094\n",
      "Epoch 94/100\n",
      "363/363 [==============================] - 1s 3ms/step - loss: 0.3460 - mae: 0.4151 - val_loss: 0.3508 - val_mae: 0.4138\n",
      "Epoch 95/100\n",
      "363/363 [==============================] - 1s 3ms/step - loss: 0.3448 - mae: 0.4158 - val_loss: 0.5466 - val_mae: 0.4175\n",
      "Epoch 96/100\n",
      "363/363 [==============================] - 1s 3ms/step - loss: 0.3474 - mae: 0.4152 - val_loss: 0.3839 - val_mae: 0.4133\n",
      "Epoch 97/100\n",
      "363/363 [==============================] - 1s 3ms/step - loss: 0.3448 - mae: 0.4152 - val_loss: 0.4870 - val_mae: 0.4164\n",
      "Epoch 98/100\n",
      "363/363 [==============================] - 1s 3ms/step - loss: 0.3456 - mae: 0.4146 - val_loss: 0.4500 - val_mae: 0.4169\n",
      "Epoch 99/100\n",
      "363/363 [==============================] - 1s 3ms/step - loss: 0.3445 - mae: 0.4147 - val_loss: 0.3734 - val_mae: 0.4129\n",
      "Epoch 100/100\n",
      "363/363 [==============================] - 1s 3ms/step - loss: 0.3438 - mae: 0.4141 - val_loss: 0.3273 - val_mae: 0.4072\n"
     ]
    }
   ],
   "source": [
    "model_history = model.fit(x_train, y_train, epochs=100, validation_data=(x_valid,y_valid))"
   ]
  },
  {
   "cell_type": "code",
   "execution_count": 20,
   "id": "28647d05",
   "metadata": {},
   "outputs": [
    {
     "name": "stdout",
     "output_type": "stream",
     "text": [
      "162/162 [==============================] - 0s 2ms/step - loss: 0.3491 - mae: 0.4151\n"
     ]
    }
   ],
   "source": [
    "mae_test = model.evaluate(x_test, y_test)"
   ]
  },
  {
   "cell_type": "code",
   "execution_count": 21,
   "id": "fb4fbc06",
   "metadata": {},
   "outputs": [
    {
     "data": {
      "image/png": "[encoded data removed]",
      "text/plain": [
       "<Figure size 800x500 with 1 Axes>"
      ]
     },
     "metadata": {},
     "output_type": "display_data"
    }
   ],
   "source": [
    "pd.DataFrame(model_history.history).plot(figsize=(8, 5))\n",
    "plt.grid(True)\n",
    "plt.gca().set_ylim(0,1)\n",
    "plt.show()"
   ]
  },
  {
   "cell_type": "code",
   "execution_count": 18,
   "id": "2d8621d2",
   "metadata": {},
   "outputs": [],
   "source": [
    "del model\n",
    "keras.backend.clear_session()"
   ]
  },
  {
   "cell_type": "markdown",
   "id": "c811a61c",
   "metadata": {},
   "source": [
    "# Best Model saving"
   ]
  },
  {
   "cell_type": "code",
   "execution_count": 19,
   "id": "7934e2a4",
   "metadata": {},
   "outputs": [],
   "source": [
    "np.random.seed(42)\n",
    "tf.random.set_seed(42)"
   ]
  },
  {
   "cell_type": "code",
   "execution_count": 20,
   "id": "e563754c",
   "metadata": {},
   "outputs": [],
   "source": [
    "model = keras.models.Sequential([\n",
    "    keras.layers.Dense(30, activation='relu', input_shape=[8]),\n",
    "    keras.layers.Dense(30, activation='relu'),\n",
    "    keras.layers.Dense(1)\n",
    "])"
   ]
  },
  {
   "cell_type": "code",
   "execution_count": 21,
   "id": "c4b5bff5",
   "metadata": {},
   "outputs": [
    {
     "name": "stdout",
     "output_type": "stream",
     "text": [
      "Model: \"sequential\"\n",
      "_________________________________________________________________\n",
      " Layer (type)                Output Shape              Param #   \n",
      "=================================================================\n",
      " dense (Dense)               (None, 30)                270       \n",
      "                                                                 \n",
      " dense_1 (Dense)             (None, 30)                930       \n",
      "                                                                 \n",
      " dense_2 (Dense)             (None, 1)                 31        \n",
      "                                                                 \n",
      "=================================================================\n",
      "Total params: 1,231\n",
      "Trainable params: 1,231\n",
      "Non-trainable params: 0\n",
      "_________________________________________________________________\n"
     ]
    }
   ],
   "source": [
    "model.summary()"
   ]
  },
  {
   "cell_type": "code",
   "execution_count": 22,
   "id": "0e4ab9bd",
   "metadata": {},
   "outputs": [],
   "source": [
    "model.compile(loss='mse', optimizer=keras.optimizers.SGD(learning_rate=1e-3))"
   ]
  },
  {
   "cell_type": "code",
   "execution_count": 23,
   "id": "eeef77cf",
   "metadata": {},
   "outputs": [],
   "source": [
    "# !mkdir 'callback_eg'"
   ]
  },
  {
   "cell_type": "code",
   "execution_count": 24,
   "id": "cfe94fd1",
   "metadata": {},
   "outputs": [],
   "source": [
    "checkpoint_cb = keras.callbacks.ModelCheckpoint('best_model_func_api.h5', save_best_only=True)"
   ]
  },
  {
   "cell_type": "code",
   "execution_count": 25,
   "id": "4d0d63a2",
   "metadata": {
    "scrolled": true
   },
   "outputs": [
    {
     "name": "stdout",
     "output_type": "stream",
     "text": [
      "Epoch 1/30\n",
      "363/363 [==============================] - 2s 3ms/step - loss: 2.1956 - val_loss: 1.4361\n",
      "Epoch 2/30\n",
      "363/363 [==============================] - 1s 3ms/step - loss: 0.8880 - val_loss: 0.8732\n",
      "Epoch 3/30\n",
      "363/363 [==============================] - 1s 3ms/step - loss: 0.7489 - val_loss: 0.6808\n",
      "Epoch 4/30\n",
      "363/363 [==============================] - 1s 3ms/step - loss: 0.6717 - val_loss: 0.6369\n",
      "Epoch 5/30\n",
      "363/363 [==============================] - 1s 3ms/step - loss: 0.6189 - val_loss: 0.5771\n",
      "Epoch 6/30\n",
      "363/363 [==============================] - 1s 3ms/step - loss: 0.5752 - val_loss: 0.5335\n",
      "Epoch 7/30\n",
      "363/363 [==============================] - 1s 3ms/step - loss: 0.5409 - val_loss: 0.4955\n",
      "Epoch 8/30\n",
      "363/363 [==============================] - 1s 3ms/step - loss: 0.5124 - val_loss: 0.4806\n",
      "Epoch 9/30\n",
      "363/363 [==============================] - 1s 3ms/step - loss: 0.4892 - val_loss: 0.4595\n",
      "Epoch 10/30\n",
      "363/363 [==============================] - 1s 3ms/step - loss: 0.4698 - val_loss: 0.4421\n",
      "Epoch 11/30\n",
      "363/363 [==============================] - 1s 3ms/step - loss: 0.4544 - val_loss: 0.4517\n",
      "Epoch 12/30\n",
      "363/363 [==============================] - 1s 3ms/step - loss: 0.4416 - val_loss: 0.4384\n",
      "Epoch 13/30\n",
      "363/363 [==============================] - 1s 3ms/step - loss: 0.4315 - val_loss: 0.4347\n",
      "Epoch 14/30\n",
      "363/363 [==============================] - 1s 3ms/step - loss: 0.4232 - val_loss: 0.4262\n",
      "Epoch 15/30\n",
      "363/363 [==============================] - 1s 3ms/step - loss: 0.4161 - val_loss: 0.4296\n",
      "Epoch 16/30\n",
      "363/363 [==============================] - 1s 3ms/step - loss: 0.4101 - val_loss: 0.4216\n",
      "Epoch 17/30\n",
      "363/363 [==============================] - 1s 3ms/step - loss: 0.4049 - val_loss: 0.4312\n",
      "Epoch 18/30\n",
      "363/363 [==============================] - 1s 3ms/step - loss: 0.4008 - val_loss: 0.4393\n",
      "Epoch 19/30\n",
      "363/363 [==============================] - 1s 3ms/step - loss: 0.3963 - val_loss: 0.4293\n",
      "Epoch 20/30\n",
      "363/363 [==============================] - 1s 3ms/step - loss: 0.3932 - val_loss: 0.4738\n",
      "Epoch 21/30\n",
      "363/363 [==============================] - 1s 3ms/step - loss: 0.3900 - val_loss: 0.4583\n",
      "Epoch 22/30\n",
      "363/363 [==============================] - 1s 3ms/step - loss: 0.3873 - val_loss: 0.4653\n",
      "Epoch 23/30\n",
      "363/363 [==============================] - 1s 3ms/step - loss: 0.3846 - val_loss: 0.3947\n",
      "Epoch 24/30\n",
      "363/363 [==============================] - 1s 3ms/step - loss: 0.3824 - val_loss: 0.4332\n",
      "Epoch 25/30\n",
      "363/363 [==============================] - 1s 3ms/step - loss: 0.3800 - val_loss: 0.4516\n",
      "Epoch 26/30\n",
      "363/363 [==============================] - 1s 3ms/step - loss: 0.3784 - val_loss: 0.4467\n",
      "Epoch 27/30\n",
      "363/363 [==============================] - 1s 3ms/step - loss: 0.3769 - val_loss: 0.3908\n",
      "Epoch 28/30\n",
      "363/363 [==============================] - 1s 3ms/step - loss: 0.3750 - val_loss: 0.4382\n",
      "Epoch 29/30\n",
      "363/363 [==============================] - 1s 3ms/step - loss: 0.3735 - val_loss: 0.4099\n",
      "Epoch 30/30\n",
      "363/363 [==============================] - 1s 3ms/step - loss: 0.3721 - val_loss: 0.4454\n"
     ]
    }
   ],
   "source": [
    "model_history = model.fit(x_train, y_train, epochs=30, \n",
    "                          validation_data=(x_valid,y_valid),\n",
    "                         callbacks=[checkpoint_cb])"
   ]
  },
  {
   "cell_type": "code",
   "execution_count": 39,
   "id": "ddcdfd94",
   "metadata": {},
   "outputs": [],
   "source": [
    "del model\n",
    "keras.backend.clear_session()"
   ]
  },
  {
   "cell_type": "markdown",
   "id": "fa275b2f",
   "metadata": {},
   "source": [
    "# Early stopping - helps to get convergence point"
   ]
  },
  {
   "cell_type": "code",
   "execution_count": null,
   "id": "797f2f09",
   "metadata": {},
   "outputs": [],
   "source": []
  },
  {
   "cell_type": "code",
   "execution_count": 40,
   "id": "3d87047a",
   "metadata": {},
   "outputs": [],
   "source": [
    "np.random.seed(42)\n",
    "tf.random.set_seed(42)"
   ]
  },
  {
   "cell_type": "code",
   "execution_count": 41,
   "id": "492327c8",
   "metadata": {},
   "outputs": [],
   "source": [
    "model = keras.models.Sequential([\n",
    "    keras.layers.Dense(30, activation='relu', input_shape=[8]),\n",
    "    keras.layers.Dense(30, activation='relu'),\n",
    "    keras.layers.Dense(1)\n",
    "])"
   ]
  },
  {
   "cell_type": "code",
   "execution_count": 42,
   "id": "ea1f950a",
   "metadata": {},
   "outputs": [
    {
     "name": "stdout",
     "output_type": "stream",
     "text": [
      "Model: \"sequential\"\n",
      "_________________________________________________________________\n",
      " Layer (type)                Output Shape              Param #   \n",
      "=================================================================\n",
      " dense (Dense)               (None, 30)                270       \n",
      "                                                                 \n",
      " dense_1 (Dense)             (None, 30)                930       \n",
      "                                                                 \n",
      " dense_2 (Dense)             (None, 1)                 31        \n",
      "                                                                 \n",
      "=================================================================\n",
      "Total params: 1,231\n",
      "Trainable params: 1,231\n",
      "Non-trainable params: 0\n",
      "_________________________________________________________________\n"
     ]
    }
   ],
   "source": [
    "model.summary()"
   ]
  },
  {
   "cell_type": "code",
   "execution_count": 43,
   "id": "f664d058",
   "metadata": {},
   "outputs": [],
   "source": [
    "model.compile(loss='mse', optimizer=keras.optimizers.SGD(learning_rate=1e-3))"
   ]
  },
  {
   "cell_type": "code",
   "execution_count": 44,
   "id": "2be7de35",
   "metadata": {},
   "outputs": [],
   "source": [
    "# !mkdir 'callback_eg'"
   ]
  },
  {
   "cell_type": "code",
   "execution_count": 45,
   "id": "32d5fda3",
   "metadata": {},
   "outputs": [],
   "source": [
    "checkpoint_cb = keras.callbacks.ModelCheckpoint('early_stop_best_model.h5', save_best_only=True)"
   ]
  },
  {
   "cell_type": "code",
   "execution_count": 46,
   "id": "24e8d182",
   "metadata": {},
   "outputs": [],
   "source": [
    "early_stops = keras.callbacks.EarlyStopping(patience=10, restore_best_weights=True)"
   ]
  },
  {
   "cell_type": "code",
   "execution_count": 47,
   "id": "61bac385",
   "metadata": {
    "scrolled": true
   },
   "outputs": [
    {
     "name": "stdout",
     "output_type": "stream",
     "text": [
      "Epoch 1/200\n",
      "363/363 [==============================] - 2s 5ms/step - loss: 2.3326 - val_loss: 1.1099\n",
      "Epoch 2/200\n",
      "363/363 [==============================] - 2s 7ms/step - loss: 0.8007 - val_loss: 0.7048\n",
      "Epoch 3/200\n",
      "363/363 [==============================] - 2s 6ms/step - loss: 0.6923 - val_loss: 0.7323\n",
      "Epoch 4/200\n",
      "363/363 [==============================] - 2s 6ms/step - loss: 0.6452 - val_loss: 0.6842\n",
      "Epoch 5/200\n",
      "363/363 [==============================] - 3s 7ms/step - loss: 0.6103 - val_loss: 0.6247\n",
      "Epoch 6/200\n",
      "363/363 [==============================] - 2s 6ms/step - loss: 0.5786 - val_loss: 0.6422\n",
      "Epoch 7/200\n",
      "363/363 [==============================] - 2s 6ms/step - loss: 0.5525 - val_loss: 0.6302\n",
      "Epoch 8/200\n",
      "363/363 [==============================] - 2s 5ms/step - loss: 0.5297 - val_loss: 0.5612\n",
      "Epoch 9/200\n",
      "363/363 [==============================] - 2s 5ms/step - loss: 0.5086 - val_loss: 0.5404\n",
      "Epoch 10/200\n",
      "363/363 [==============================] - 2s 6ms/step - loss: 0.4906 - val_loss: 0.5270\n",
      "Epoch 11/200\n",
      "363/363 [==============================] - 2s 6ms/step - loss: 0.4764 - val_loss: 0.4624\n",
      "Epoch 12/200\n",
      "363/363 [==============================] - 3s 8ms/step - loss: 0.4631 - val_loss: 0.4577\n",
      "Epoch 13/200\n",
      "363/363 [==============================] - 2s 6ms/step - loss: 0.4522 - val_loss: 0.4320\n",
      "Epoch 14/200\n",
      "363/363 [==============================] - 2s 6ms/step - loss: 0.4427 - val_loss: 0.4186\n",
      "Epoch 15/200\n",
      "363/363 [==============================] - 2s 5ms/step - loss: 0.4345 - val_loss: 0.4085\n",
      "Epoch 16/200\n",
      "363/363 [==============================] - 2s 5ms/step - loss: 0.4276 - val_loss: 0.4006\n",
      "Epoch 17/200\n",
      "363/363 [==============================] - 2s 5ms/step - loss: 0.4217 - val_loss: 0.3954\n",
      "Epoch 18/200\n",
      "363/363 [==============================] - 2s 6ms/step - loss: 0.4166 - val_loss: 0.3940\n",
      "Epoch 19/200\n",
      "363/363 [==============================] - 2s 6ms/step - loss: 0.4116 - val_loss: 0.3902\n",
      "Epoch 20/200\n",
      "363/363 [==============================] - 2s 6ms/step - loss: 0.4077 - val_loss: 0.3954\n",
      "Epoch 21/200\n",
      "363/363 [==============================] - 2s 6ms/step - loss: 0.4036 - val_loss: 0.3960\n",
      "Epoch 22/200\n",
      "363/363 [==============================] - 2s 5ms/step - loss: 0.4002 - val_loss: 0.3988\n",
      "Epoch 23/200\n",
      "363/363 [==============================] - 2s 5ms/step - loss: 0.3968 - val_loss: 0.3884\n",
      "Epoch 24/200\n",
      "363/363 [==============================] - 2s 6ms/step - loss: 0.3936 - val_loss: 0.3974\n",
      "Epoch 25/200\n",
      "363/363 [==============================] - 2s 5ms/step - loss: 0.3906 - val_loss: 0.4053\n",
      "Epoch 26/200\n",
      "363/363 [==============================] - 2s 5ms/step - loss: 0.3881 - val_loss: 0.4077\n",
      "Epoch 27/200\n",
      "363/363 [==============================] - 2s 5ms/step - loss: 0.3858 - val_loss: 0.3975\n",
      "Epoch 28/200\n",
      "363/363 [==============================] - 2s 5ms/step - loss: 0.3834 - val_loss: 0.4084\n",
      "Epoch 29/200\n",
      "363/363 [==============================] - 2s 6ms/step - loss: 0.3812 - val_loss: 0.3959\n",
      "Epoch 30/200\n",
      "363/363 [==============================] - 1s 4ms/step - loss: 0.3792 - val_loss: 0.3971\n",
      "Epoch 31/200\n",
      "363/363 [==============================] - 1s 3ms/step - loss: 0.3767 - val_loss: 0.3922\n",
      "Epoch 32/200\n",
      "363/363 [==============================] - 2s 4ms/step - loss: 0.3751 - val_loss: 0.4168\n",
      "Epoch 33/200\n",
      "363/363 [==============================] - 1s 4ms/step - loss: 0.3739 - val_loss: 0.3899\n"
     ]
    }
   ],
   "source": [
    "model_history = model.fit(x_train, y_train, epochs=200, \n",
    "                          validation_data=(x_valid,y_valid),\n",
    "                         callbacks=[checkpoint_cb, early_stops])"
   ]
  },
  {
   "cell_type": "code",
   "execution_count": 48,
   "id": "10ac80be",
   "metadata": {},
   "outputs": [],
   "source": [
    "best_stop_model = keras.models.load_model('early_stop_best_model.h5')"
   ]
  },
  {
   "cell_type": "code",
   "execution_count": 50,
   "id": "57c77764",
   "metadata": {},
   "outputs": [
    {
     "name": "stdout",
     "output_type": "stream",
     "text": [
      "162/162 [==============================] - 1s 3ms/step - loss: 0.3940\n"
     ]
    },
    {
     "data": {
      "text/plain": [
       "0.3940140902996063"
      ]
     },
     "execution_count": 50,
     "metadata": {},
     "output_type": "execute_result"
    }
   ],
   "source": [
    "best_stop_model.evaluate(x_test, y_test)"
   ]
  },
  {
   "cell_type": "code",
   "execution_count": null,
   "id": "fbd77d0c",
   "metadata": {},
   "outputs": [],
   "source": []
  }
 ],
 "metadata": {
  "kernelspec": {
   "display_name": "Python 3 (ipykernel)",
   "language": "python",
   "name": "python3"
  },
  "language_info": {
   "codemirror_mode": {
    "name": "ipython",
    "version": 3
   },
   "file_extension": ".py",
   "mimetype": "text/x-python",
   "name": "python",
   "nbconvert_exporter": "python",
   "pygments_lexer": "ipython3",
   "version": "3.8.10"
  }
 },
 "nbformat": 4,
 "nbformat_minor": 5
}
